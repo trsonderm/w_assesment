{
 "cells": [
  {
   "cell_type": "code",
   "execution_count": 16,
   "id": "fa39da58",
   "metadata": {},
   "outputs": [],
   "source": [
    "# Data analysis packages:\n",
    "import pandas as pd\n",
    "import numpy as np\n",
    "\n",
    "# Visualization packages:\n",
    "import seaborn as sns\n",
    "import matplotlib.pyplot as plt\n",
    "plt.rcParams['figure.figsize'] = [6, 2]\n",
    "\n",
    "%matplotlib inline\n",
    "\n",
    "#Utility packages:\n",
    "import multiprocessing\n",
    "import email"
   ]
  },
  {
   "cell_type": "code",
   "execution_count": 17,
   "id": "ee06cba9",
   "metadata": {},
   "outputs": [
    {
     "data": {
      "text/plain": [
       "(517401, 2)"
      ]
     },
     "execution_count": 17,
     "metadata": {},
     "output_type": "execute_result"
    }
   ],
   "source": [
    "df = pd.read_csv('../data/emails.csv')\n",
    "df.shape"
   ]
  },
  {
   "cell_type": "code",
   "execution_count": 18,
   "id": "c7e2f122",
   "metadata": {},
   "outputs": [
    {
     "name": "stdout",
     "output_type": "stream",
     "text": [
      "Message-ID: <15464986.1075855378456.JavaMail.evans@thyme>\n",
      "Date: Fri, 4 May 2001 13:51:00 -0700 (PDT)\n",
      "From: phillip.allen@enron.com\n",
      "To: john.lavorato@enron.com\n",
      "Subject: Re:\n",
      "Mime-Version: 1.0\n",
      "Content-Type: text/plain; charset=us-ascii\n",
      "Content-Transfer-Encoding: 7bit\n",
      "X-From: Phillip K Allen\n",
      "X-To: John J Lavorato <John J Lavorato/ENRON@enronXgate@ENRON>\n",
      "X-cc: \n",
      "X-bcc: \n",
      "X-Folder: \\Phillip_Allen_Jan2002_1\\Allen, Phillip K.\\'Sent Mail\n",
      "X-Origin: Allen-P\n",
      "X-FileName: pallen (Non-Privileged).pst\n",
      "\n",
      "Traveling to have a business meeting takes the fun out of the trip.  Especially if you have to prepare a presentation.  I would suggest holding the business plan meetings here then take a trip without any formal business meetings.  I would even try and get some honest opinions on whether a trip is even desired or necessary.\n",
      "\n",
      "As far as the business meetings, I think it would be more productive to try and stimulate discussions across the different groups about what is working and what is not.  Too often the presenter speaks and the others are quiet just waiting for their turn.   The meetings might be better if held in a round table discussion format.  \n",
      "\n",
      "My suggestion for where to go is Austin.  Play golf and rent a ski boat and jet ski's.  Flying somewhere takes too much time.\n",
      "\n"
     ]
    }
   ],
   "source": [
    "print(df.loc[1]['message'])"
   ]
  },
  {
   "cell_type": "code",
   "execution_count": 19,
   "id": "902b263d",
   "metadata": {},
   "outputs": [
    {
     "data": {
      "text/plain": [
       "[('Message-ID', '<15464986.1075855378456.JavaMail.evans@thyme>'),\n",
       " ('Date', 'Fri, 4 May 2001 13:51:00 -0700 (PDT)'),\n",
       " ('From', 'phillip.allen@enron.com'),\n",
       " ('To', 'john.lavorato@enron.com'),\n",
       " ('Subject', 'Re:'),\n",
       " ('Mime-Version', '1.0'),\n",
       " ('Content-Type', 'text/plain; charset=us-ascii'),\n",
       " ('Content-Transfer-Encoding', '7bit'),\n",
       " ('X-From', 'Phillip K Allen'),\n",
       " ('X-To', 'John J Lavorato <John J Lavorato/ENRON@enronXgate@ENRON>'),\n",
       " ('X-cc', ''),\n",
       " ('X-bcc', ''),\n",
       " ('X-Folder', \"\\\\Phillip_Allen_Jan2002_1\\\\Allen, Phillip K.\\\\'Sent Mail\"),\n",
       " ('X-Origin', 'Allen-P'),\n",
       " ('X-FileName', 'pallen (Non-Privileged).pst')]"
      ]
     },
     "execution_count": 19,
     "metadata": {},
     "output_type": "execute_result"
    }
   ],
   "source": [
    "message = df.loc[1]['message']\n",
    "em = email.message_from_string(message)\n",
    "em.items()"
   ]
  },
  {
   "cell_type": "code",
   "execution_count": 20,
   "id": "88fd9c91",
   "metadata": {},
   "outputs": [],
   "source": [
    "def get_field(field, messages):\n",
    "    column = []\n",
    "    for message in messages:\n",
    "        em = email.message_from_string(message)\n",
    "        column.append(em.get(field))\n",
    "    return column"
   ]
  },
  {
   "cell_type": "code",
   "execution_count": 21,
   "id": "90657422",
   "metadata": {},
   "outputs": [],
   "source": [
    "df['X-From'] = get_field(\"X-From\", df['message'])\n",
    "df['X-To'] = get_field(\"X-To\", df['message'])\n",
    "df['X-cc'] = get_field(\"X-cc\", df['message'])\n",
    "df['X-Subject'] = get_field(\"Subject\", df['message'])"
   ]
  },
  {
   "cell_type": "code",
   "execution_count": 22,
   "id": "231a515c",
   "metadata": {},
   "outputs": [
    {
     "name": "stdout",
     "output_type": "stream",
     "text": [
      "                       file  \\\n",
      "0     allen-p/_sent_mail/1.   \n",
      "1    allen-p/_sent_mail/10.   \n",
      "2   allen-p/_sent_mail/100.   \n",
      "3  allen-p/_sent_mail/1000.   \n",
      "4  allen-p/_sent_mail/1001.   \n",
      "5  allen-p/_sent_mail/1002.   \n",
      "6  allen-p/_sent_mail/1003.   \n",
      "7  allen-p/_sent_mail/1004.   \n",
      "8   allen-p/_sent_mail/101.   \n",
      "9   allen-p/_sent_mail/102.   \n",
      "\n",
      "                                             message           X-From  \\\n",
      "0  Message-ID: <18782981.1075855378110.JavaMail.e...  Phillip K Allen   \n",
      "1  Message-ID: <15464986.1075855378456.JavaMail.e...  Phillip K Allen   \n",
      "2  Message-ID: <24216240.1075855687451.JavaMail.e...  Phillip K Allen   \n",
      "3  Message-ID: <13505866.1075863688222.JavaMail.e...  Phillip K Allen   \n",
      "4  Message-ID: <30922949.1075863688243.JavaMail.e...  Phillip K Allen   \n",
      "5  Message-ID: <30965995.1075863688265.JavaMail.e...  Phillip K Allen   \n",
      "6  Message-ID: <16254169.1075863688286.JavaMail.e...  Phillip K Allen   \n",
      "7  Message-ID: <17189699.1075863688308.JavaMail.e...  Phillip K Allen   \n",
      "8  Message-ID: <20641191.1075855687472.JavaMail.e...  Phillip K Allen   \n",
      "9  Message-ID: <30795301.1075855687494.JavaMail.e...  Phillip K Allen   \n",
      "\n",
      "                                                X-To X-cc  \\\n",
      "0           Tim Belden <Tim Belden/Enron@EnronXGate>        \n",
      "1  John J Lavorato <John J Lavorato/ENRON@enronXg...        \n",
      "2                                   Leah Van Arsdall        \n",
      "3                                      Randall L Gay        \n",
      "4                                         Greg Piper        \n",
      "5                                         Greg Piper        \n",
      "6             david.l.johnson@enron.com, John Shafer        \n",
      "7                                     Joyce Teixeira        \n",
      "8                                         Mark Scott        \n",
      "9                                    zimam@enron.com        \n",
      "\n",
      "                                           X-Subject  \n",
      "0                                                     \n",
      "1                                                Re:  \n",
      "2                                           Re: test  \n",
      "3                                                     \n",
      "4                                          Re: Hello  \n",
      "5                                          Re: Hello  \n",
      "6                                                     \n",
      "7                       Re: PRC review - phone calls  \n",
      "8                     Re: High Speed Internet Access  \n",
      "9  FW: fixed forward or other Collar floor gas pr...  \n"
     ]
    }
   ],
   "source": [
    "print(df.head(10))"
   ]
  },
  {
   "cell_type": "code",
   "execution_count": 24,
   "id": "91721932",
   "metadata": {},
   "outputs": [],
   "source": [
    "# Drop rows with any empty cells\n",
    "df.dropna(\n",
    "    axis=0,\n",
    "    how='any',\n",
    "    subset=None,\n",
    "    inplace=True\n",
    ")"
   ]
  },
  {
   "cell_type": "code",
   "execution_count": null,
   "id": "a121896d",
   "metadata": {},
   "outputs": [],
   "source": []
  },
  {
   "cell_type": "code",
   "execution_count": null,
   "id": "907f13ef",
   "metadata": {},
   "outputs": [],
   "source": []
  },
  {
   "cell_type": "code",
   "execution_count": 25,
   "id": "ced48453",
   "metadata": {},
   "outputs": [
    {
     "data": {
      "text/plain": [
       "file         517372\n",
       "message      517372\n",
       "X-From        27980\n",
       "X-To          73552\n",
       "X-cc          33701\n",
       "X-Subject    159277\n",
       "dtype: int64"
      ]
     },
     "execution_count": 25,
     "metadata": {},
     "output_type": "execute_result"
    }
   ],
   "source": [
    "df.nunique()"
   ]
  },
  {
   "cell_type": "code",
   "execution_count": 26,
   "id": "5c9281e4",
   "metadata": {},
   "outputs": [
    {
     "name": "stdout",
     "output_type": "stream",
     "text": [
      "                       file  \\\n",
      "0     allen-p/_sent_mail/1.   \n",
      "1    allen-p/_sent_mail/10.   \n",
      "2   allen-p/_sent_mail/100.   \n",
      "3  allen-p/_sent_mail/1000.   \n",
      "4  allen-p/_sent_mail/1001.   \n",
      "5  allen-p/_sent_mail/1002.   \n",
      "6  allen-p/_sent_mail/1003.   \n",
      "7  allen-p/_sent_mail/1004.   \n",
      "8   allen-p/_sent_mail/101.   \n",
      "9   allen-p/_sent_mail/102.   \n",
      "\n",
      "                                             message  X-From  X-To  X-cc  \\\n",
      "0  Message-ID: <18782981.1075855378110.JavaMail.e...       0     0     0   \n",
      "1  Message-ID: <15464986.1075855378456.JavaMail.e...       0     1     0   \n",
      "2  Message-ID: <24216240.1075855687451.JavaMail.e...       0     2     0   \n",
      "3  Message-ID: <13505866.1075863688222.JavaMail.e...       0     3     0   \n",
      "4  Message-ID: <30922949.1075863688243.JavaMail.e...       0     4     0   \n",
      "5  Message-ID: <30965995.1075863688265.JavaMail.e...       0     4     0   \n",
      "6  Message-ID: <16254169.1075863688286.JavaMail.e...       0     5     0   \n",
      "7  Message-ID: <17189699.1075863688308.JavaMail.e...       0     6     0   \n",
      "8  Message-ID: <20641191.1075855687472.JavaMail.e...       0     7     0   \n",
      "9  Message-ID: <30795301.1075855687494.JavaMail.e...       0     8     0   \n",
      "\n",
      "                                           X-Subject  \n",
      "0                                                     \n",
      "1                                                Re:  \n",
      "2                                           Re: test  \n",
      "3                                                     \n",
      "4                                          Re: Hello  \n",
      "5                                          Re: Hello  \n",
      "6                                                     \n",
      "7                       Re: PRC review - phone calls  \n",
      "8                     Re: High Speed Internet Access  \n",
      "9  FW: fixed forward or other Collar floor gas pr...  \n"
     ]
    }
   ],
   "source": [
    "df['X-From'] = pd.factorize(df['X-From'])[0]\n",
    "df['X-To'] = pd.factorize(df['X-To'])[0] \n",
    "df['X-cc'] = pd.factorize(df['X-cc'])[0]\n",
    "print(df.head(10))\n"
   ]
  },
  {
   "cell_type": "code",
   "execution_count": 28,
   "id": "9277e70c",
   "metadata": {},
   "outputs": [
    {
     "data": {
      "text/plain": [
       "file         517372\n",
       "message      517372\n",
       "X-From        27980\n",
       "X-To          73552\n",
       "X-cc          33701\n",
       "X-Subject    159277\n",
       "dtype: int64"
      ]
     },
     "execution_count": 28,
     "metadata": {},
     "output_type": "execute_result"
    }
   ],
   "source": [
    "df.nunique()"
   ]
  },
  {
   "cell_type": "code",
   "execution_count": 11,
   "id": "14dffe7e",
   "metadata": {},
   "outputs": [
    {
     "data": {
      "text/html": [
       "<div>\n",
       "<style scoped>\n",
       "    .dataframe tbody tr th:only-of-type {\n",
       "        vertical-align: middle;\n",
       "    }\n",
       "\n",
       "    .dataframe tbody tr th {\n",
       "        vertical-align: top;\n",
       "    }\n",
       "\n",
       "    .dataframe thead th {\n",
       "        text-align: right;\n",
       "    }\n",
       "</style>\n",
       "<table border=\"1\" class=\"dataframe\">\n",
       "  <thead>\n",
       "    <tr style=\"text-align: center;\">\n",
       "      <th></th>\n",
       "      <th>file</th>\n",
       "      <th>message</th>\n",
       "      <th>X-From</th>\n",
       "      <th>X-To</th>\n",
       "      <th>X-cc</th>\n",
       "      <th>X-Subject</th>\n",
       "    </tr>\n",
       "  </thead>\n",
       "  <tbody>\n",
       "    <tr>\n",
       "      <th>0</th>\n",
       "      <td>allen-p/_sent_mail/1.</td>\n",
       "      <td>Message-ID: &lt;18782981.1075855378110.JavaMail.e...</td>\n",
       "      <td>0</td>\n",
       "      <td>0</td>\n",
       "      <td>0</td>\n",
       "      <td></td>\n",
       "    </tr>\n",
       "    <tr>\n",
       "      <th>1</th>\n",
       "      <td>allen-p/_sent_mail/10.</td>\n",
       "      <td>Message-ID: &lt;15464986.1075855378456.JavaMail.e...</td>\n",
       "      <td>0</td>\n",
       "      <td>1</td>\n",
       "      <td>0</td>\n",
       "      <td>Re:</td>\n",
       "    </tr>\n",
       "    <tr>\n",
       "      <th>...</th>\n",
       "      <td>...</td>\n",
       "      <td>...</td>\n",
       "      <td>...</td>\n",
       "      <td>...</td>\n",
       "      <td>...</td>\n",
       "      <td>...</td>\n",
       "    </tr>\n",
       "    <tr>\n",
       "      <th>517399</th>\n",
       "      <td>zufferli-j/sent_items/98.</td>\n",
       "      <td>Message-ID: &lt;22052556.1075842030013.JavaMail.e...</td>\n",
       "      <td>7114</td>\n",
       "      <td>414</td>\n",
       "      <td>0</td>\n",
       "      <td>Calgary Analyst/Associate</td>\n",
       "    </tr>\n",
       "    <tr>\n",
       "      <th>517400</th>\n",
       "      <td>zufferli-j/sent_items/99.</td>\n",
       "      <td>Message-ID: &lt;28618979.1075842030037.JavaMail.e...</td>\n",
       "      <td>7114</td>\n",
       "      <td>73483</td>\n",
       "      <td>0</td>\n",
       "      <td>RE: ali's essays</td>\n",
       "    </tr>\n",
       "  </tbody>\n",
       "</table>\n",
       "<p>517372 rows × 6 columns</p>\n",
       "</div>"
      ],
      "text/plain": [
       "                  file                                 message                        X-From  X-To   X-cc         X-Subject         \n",
       "0           allen-p/_sent_mail/1.  Message-ID: <18782981.1075855378110.JavaMail.e...      0       0    0                            \n",
       "1          allen-p/_sent_mail/10.  Message-ID: <15464986.1075855378456.JavaMail.e...      0       1    0                         Re:\n",
       "...                           ...                                                ...     ...    ...   ...                        ...\n",
       "517399  zufferli-j/sent_items/98.  Message-ID: <22052556.1075842030013.JavaMail.e...   7114     414    0   Calgary Analyst/Associate\n",
       "517400  zufferli-j/sent_items/99.  Message-ID: <28618979.1075842030037.JavaMail.e...   7114   73483    0            RE: ali's essays\n",
       "\n",
       "[517372 rows x 6 columns]"
      ]
     },
     "metadata": {},
     "output_type": "display_data"
    }
   ],
   "source": [
    "with pd.option_context('display.max_rows', 5,\n",
    "                       'display.max_columns', None,\n",
    "                       'display.width', 1000,\n",
    "                       'display.precision', 3,\n",
    "                       'display.colheader_justify', 'center'):\n",
    "    display(df)"
   ]
  },
  {
   "cell_type": "code",
   "execution_count": 14,
   "id": "96af7b7a",
   "metadata": {},
   "outputs": [
    {
     "data": {
      "text/html": [
       "<div>\n",
       "<style scoped>\n",
       "    .dataframe tbody tr th:only-of-type {\n",
       "        vertical-align: middle;\n",
       "    }\n",
       "\n",
       "    .dataframe tbody tr th {\n",
       "        vertical-align: top;\n",
       "    }\n",
       "\n",
       "    .dataframe thead th {\n",
       "        text-align: right;\n",
       "    }\n",
       "</style>\n",
       "<table border=\"1\" class=\"dataframe\">\n",
       "  <thead>\n",
       "    <tr style=\"text-align: right;\">\n",
       "      <th></th>\n",
       "      <th>X-From</th>\n",
       "      <th>X-To</th>\n",
       "      <th>X-cc</th>\n",
       "    </tr>\n",
       "  </thead>\n",
       "  <tbody>\n",
       "    <tr>\n",
       "      <th>0</th>\n",
       "      <td>0</td>\n",
       "      <td>0</td>\n",
       "      <td>0</td>\n",
       "    </tr>\n",
       "    <tr>\n",
       "      <th>1</th>\n",
       "      <td>0</td>\n",
       "      <td>1</td>\n",
       "      <td>0</td>\n",
       "    </tr>\n",
       "    <tr>\n",
       "      <th>2</th>\n",
       "      <td>0</td>\n",
       "      <td>2</td>\n",
       "      <td>0</td>\n",
       "    </tr>\n",
       "    <tr>\n",
       "      <th>3</th>\n",
       "      <td>0</td>\n",
       "      <td>3</td>\n",
       "      <td>0</td>\n",
       "    </tr>\n",
       "    <tr>\n",
       "      <th>4</th>\n",
       "      <td>0</td>\n",
       "      <td>4</td>\n",
       "      <td>0</td>\n",
       "    </tr>\n",
       "    <tr>\n",
       "      <th>...</th>\n",
       "      <td>...</td>\n",
       "      <td>...</td>\n",
       "      <td>...</td>\n",
       "    </tr>\n",
       "    <tr>\n",
       "      <th>517396</th>\n",
       "      <td>7114</td>\n",
       "      <td>2777</td>\n",
       "      <td>0</td>\n",
       "    </tr>\n",
       "    <tr>\n",
       "      <th>517397</th>\n",
       "      <td>7114</td>\n",
       "      <td>422</td>\n",
       "      <td>0</td>\n",
       "    </tr>\n",
       "    <tr>\n",
       "      <th>517398</th>\n",
       "      <td>7114</td>\n",
       "      <td>9428</td>\n",
       "      <td>0</td>\n",
       "    </tr>\n",
       "    <tr>\n",
       "      <th>517399</th>\n",
       "      <td>7114</td>\n",
       "      <td>414</td>\n",
       "      <td>0</td>\n",
       "    </tr>\n",
       "    <tr>\n",
       "      <th>517400</th>\n",
       "      <td>7114</td>\n",
       "      <td>73483</td>\n",
       "      <td>0</td>\n",
       "    </tr>\n",
       "  </tbody>\n",
       "</table>\n",
       "<p>517372 rows × 3 columns</p>\n",
       "</div>"
      ],
      "text/plain": [
       "        X-From   X-To  X-cc\n",
       "0            0      0     0\n",
       "1            0      1     0\n",
       "2            0      2     0\n",
       "3            0      3     0\n",
       "4            0      4     0\n",
       "...        ...    ...   ...\n",
       "517396    7114   2777     0\n",
       "517397    7114    422     0\n",
       "517398    7114   9428     0\n",
       "517399    7114    414     0\n",
       "517400    7114  73483     0\n",
       "\n",
       "[517372 rows x 3 columns]"
      ]
     },
     "execution_count": 14,
     "metadata": {},
     "output_type": "execute_result"
    }
   ],
   "source": [
    "df.drop(['file','message','X-Subject'], axis=1, inplace=True)\n",
    "df.astype({'X-From':'int'})\n",
    "df.astype({'X-To':'int'})\n",
    "df.astype({'X-cc':'int'})"
   ]
  },
  {
   "cell_type": "code",
   "execution_count": 15,
   "id": "598c5c0b",
   "metadata": {},
   "outputs": [],
   "source": [
    "df.to_csv('../data/clean_emails.csv',index=False, header=False)"
   ]
  },
  {
   "cell_type": "code",
   "execution_count": null,
   "id": "cf2f8792",
   "metadata": {},
   "outputs": [],
   "source": []
  },
  {
   "cell_type": "code",
   "execution_count": null,
   "id": "7f5edb19",
   "metadata": {},
   "outputs": [],
   "source": []
  }
 ],
 "metadata": {
  "kernelspec": {
   "display_name": "Python 3 (ipykernel)",
   "language": "python",
   "name": "python3"
  },
  "language_info": {
   "codemirror_mode": {
    "name": "ipython",
    "version": 3
   },
   "file_extension": ".py",
   "mimetype": "text/x-python",
   "name": "python",
   "nbconvert_exporter": "python",
   "pygments_lexer": "ipython3",
   "version": "3.9.12"
  }
 },
 "nbformat": 4,
 "nbformat_minor": 5
}
